{
 "cells": [
  {
   "cell_type": "code",
   "execution_count": 1,
   "id": "c687b5fa",
   "metadata": {},
   "outputs": [
    {
     "name": "stdout",
     "output_type": "stream",
     "text": [
      "Enter positive integer: 31\n",
      "The sum of all even numbers between 1 and 31: 240\n"
     ]
    }
   ],
   "source": [
    "num=int(input(\"Enter positive integer: \"))\n",
    "sum=0\n",
    "for i in range(1,num+1):\n",
    "    if(i%2==0):\n",
    "        sum+=i\n",
    "print(f\"The sum of all even numbers between 1 and {num}: {sum}\")"
   ]
  },
  {
   "cell_type": "code",
   "execution_count": null,
   "id": "a2a399ec",
   "metadata": {},
   "outputs": [],
   "source": []
  }
 ],
 "metadata": {
  "kernelspec": {
   "display_name": "Python 3 (ipykernel)",
   "language": "python",
   "name": "python3"
  },
  "language_info": {
   "codemirror_mode": {
    "name": "ipython",
    "version": 3
   },
   "file_extension": ".py",
   "mimetype": "text/x-python",
   "name": "python",
   "nbconvert_exporter": "python",
   "pygments_lexer": "ipython3",
   "version": "3.9.13"
  }
 },
 "nbformat": 4,
 "nbformat_minor": 5
}
