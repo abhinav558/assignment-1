{
 "cells": [
  {
   "cell_type": "code",
   "execution_count": 2,
   "id": "75ec889b",
   "metadata": {},
   "outputs": [
    {
     "name": "stdout",
     "output_type": "stream",
     "text": [
      "95\n",
      "89\n",
      "93\n",
      "92.33333333333333\n",
      "Grade: A\n"
     ]
    }
   ],
   "source": [
    "marks1=float(input())\n",
    "marks2=float(input())\n",
    "marks3=float(input())\n",
    "avg=(marks1+marks2+marks3)/3\n",
    "print(avg)\n",
    "if avg>=90:\n",
    "    print(\"Grade: A\")\n",
    "elif 80<=avg<90:\n",
    "    print(\"Grade: B\")\n",
    "elif 70<=avg<80:\n",
    "    print(\"Grade: c\")\n",
    "else:\n",
    "    print(\"Grade: fail\")"
   ]
  },
  {
   "cell_type": "code",
   "execution_count": null,
   "id": "b6fc1dc1",
   "metadata": {},
   "outputs": [],
   "source": []
  },
  {
   "cell_type": "code",
   "execution_count": null,
   "id": "f01b9c43",
   "metadata": {},
   "outputs": [],
   "source": []
  }
 ],
 "metadata": {
  "kernelspec": {
   "display_name": "Python 3 (ipykernel)",
   "language": "python",
   "name": "python3"
  },
  "language_info": {
   "codemirror_mode": {
    "name": "ipython",
    "version": 3
   },
   "file_extension": ".py",
   "mimetype": "text/x-python",
   "name": "python",
   "nbconvert_exporter": "python",
   "pygments_lexer": "ipython3",
   "version": "3.9.13"
  }
 },
 "nbformat": 4,
 "nbformat_minor": 5
}
