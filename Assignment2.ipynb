```python
nums=[1,2,3,4,5]
fruits=('Apple',"Banana","Cherry","Mango","Dragon")
dictionary1={'fruit':'Strawberry','vegetable':'Brinjal','color':'Black','city':'France','educatiion':'Engineering'}
print("Accessing elements of List:")
print(nums[1])
print(nums[-2])
print("Accessing elements of Tuple:")
print(fruits[-3])
print(fruits[0])
print("Accessing elements of Dictionary:")
print(dictionary1["city"])
print(dictionary1["color"])
```

    Accessing elements of List:
    2
    4
    Accessing elements of Tuple:
    Cherry
    Apple
    Accessing elements of Dictionary:
    France
    Black
    


```python

```
